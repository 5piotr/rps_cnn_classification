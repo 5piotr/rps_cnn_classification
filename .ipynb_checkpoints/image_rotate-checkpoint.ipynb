{
 "cells": [
  {
   "cell_type": "code",
   "execution_count": 39,
   "metadata": {},
   "outputs": [],
   "source": [
    "import os\n",
    "from PIL import Image, ImageFilter "
   ]
  },
  {
   "cell_type": "code",
   "execution_count": 38,
   "metadata": {},
   "outputs": [],
   "source": [
    "# for image_paht in os.listdir('train\\\\paper'):\n",
    "#     my_image = Image.open('train\\\\paper\\\\' + image_paht)\n",
    "#     my_image = my_image.rotate(190).crop((20,20,280,180)) \n",
    "#     my_image.save('train_r\\\\paper\\\\r_' + image_paht)  "
   ]
  },
  {
   "cell_type": "code",
   "execution_count": 53,
   "metadata": {},
   "outputs": [],
   "source": [
    "# for image_paht in os.listdir('pictures'):\n",
    "#     my_image = Image.open('pictures\\\\' + image_paht)\n",
    "#     my_image = my_image.rotate(190).crop((290,290,4160-290,3120-290)) \n",
    "#     my_image.save('pictures_r\\\\' + image_paht) "
   ]
  },
  {
   "cell_type": "code",
   "execution_count": 59,
   "metadata": {},
   "outputs": [],
   "source": [
    "for image_paht in os.listdir('train_r+e\\\\paper'):\n",
    "    my_image = Image.open('train_r+e\\\\paper\\\\' + image_paht)\n",
    "    my_image = my_image.crop((2,2,260-2,160-2)) \n",
    "    my_image.save('train_r+e\\\\paper\\\\' + image_paht) "
   ]
  },
  {
   "cell_type": "code",
   "execution_count": null,
   "metadata": {},
   "outputs": [],
   "source": []
  }
 ],
 "metadata": {
  "kernelspec": {
   "display_name": "Python 3",
   "language": "python",
   "name": "python3"
  },
  "language_info": {
   "codemirror_mode": {
    "name": "ipython",
    "version": 3
   },
   "file_extension": ".py",
   "mimetype": "text/x-python",
   "name": "python",
   "nbconvert_exporter": "python",
   "pygments_lexer": "ipython3",
   "version": "3.8.5"
  }
 },
 "nbformat": 4,
 "nbformat_minor": 4
}
