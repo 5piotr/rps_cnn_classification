{
 "cells": [
  {
   "cell_type": "code",
   "execution_count": 1,
   "id": "ae52966b",
   "metadata": {},
   "outputs": [],
   "source": [
    "import matplotlib.pyplot as plt\n",
    "from sklearn.cluster import KMeans\n",
    "import numpy as np\n",
    "from PIL import Image, ImageFilter\n",
    "import os\n",
    "from tqdm import tqdm"
   ]
  },
  {
   "cell_type": "code",
   "execution_count": 2,
   "id": "e296199c",
   "metadata": {},
   "outputs": [],
   "source": [
    "img_size = (92,70)\n",
    "no_clusters = 2"
   ]
  },
  {
   "cell_type": "markdown",
   "id": "77e1da3e",
   "metadata": {},
   "source": [
    "### applying clustering to test and train sets"
   ]
  },
  {
   "cell_type": "code",
   "execution_count": 3,
   "id": "a3936a7f",
   "metadata": {},
   "outputs": [],
   "source": [
    "folder_name = 'test_rotated'\n",
    "class_name = 'rock'"
   ]
  },
  {
   "cell_type": "code",
   "execution_count": 4,
   "id": "926ff61f",
   "metadata": {},
   "outputs": [
    {
     "name": "stderr",
     "output_type": "stream",
     "text": [
      "100%|██████████| 100/100 [00:03<00:00, 29.67it/s]\n"
     ]
    }
   ],
   "source": [
    "for image_path in tqdm(os.listdir(f'{folder_name}\\\\{class_name}')):\n",
    "    img = Image.open(f'{folder_name}\\\\{class_name}\\\\{image_path}')\n",
    "    img_resized = img.resize(img_size)\n",
    "    img_array = np.array(img_resized)\n",
    "    img_flat = img_array.reshape(-1,3)\n",
    "    kmeans = KMeans(n_clusters=no_clusters, random_state=0).fit(img_flat)\n",
    "    for j in np.unique(kmeans.labels_):\n",
    "        img_flat[kmeans.labels_==j,:] = kmeans.cluster_centers_[j]\n",
    "    img_k = img_flat.reshape(img_array.shape)\n",
    "    img_k = Image.fromarray(img_k)\n",
    "    img_k = img_k.crop((1,1,img_size[0]-1,img_size[1]-1))\n",
    "    img_k.save(f'{folder_name}_clustered\\\\{class_name}\\\\{image_path}')"
   ]
  },
  {
   "cell_type": "markdown",
   "id": "0490b3b8",
   "metadata": {},
   "source": [
    "### applying edge recognition to clustered images"
   ]
  },
  {
   "cell_type": "code",
   "execution_count": 5,
   "id": "bec8ab3c",
   "metadata": {},
   "outputs": [],
   "source": [
    "folder_name = 'train_rotated'\n",
    "class_name = 'paper'"
   ]
  },
  {
   "cell_type": "code",
   "execution_count": 6,
   "id": "d3758fe9",
   "metadata": {},
   "outputs": [
    {
     "name": "stderr",
     "output_type": "stream",
     "text": [
      "100%|██████████| 612/612 [00:18<00:00, 32.89it/s]\n"
     ]
    }
   ],
   "source": [
    "for image_path in tqdm(os.listdir(f'{folder_name}\\\\{class_name}')):\n",
    "    img = Image.open(f'{folder_name}\\\\{class_name}\\\\{image_path}')\n",
    "    img_resized = img.resize(img_size)\n",
    "    img_array = np.array(img_resized)\n",
    "    img_flat = img_array.reshape(-1,3)\n",
    "    kmeans = KMeans(n_clusters=no_clusters, random_state=0).fit(img_flat)\n",
    "    for j in np.unique(kmeans.labels_):\n",
    "        img_flat[kmeans.labels_==j,:] = kmeans.cluster_centers_[j]\n",
    "    img_k = img_flat.reshape(img_array.shape)\n",
    "    img_k = Image.fromarray(img_k)\n",
    "    img_e = img_k.convert('L')\n",
    "    img_e = img_e.filter(ImageFilter.FIND_EDGES)\n",
    "    img_e = img_e.crop((1,1,img_size[0]-1,img_size[1]-1))\n",
    "    img_e.save(f'{folder_name}_clustered_edges\\\\{class_name}\\\\{image_path}')"
   ]
  },
  {
   "cell_type": "code",
   "execution_count": null,
   "id": "6d0c80af",
   "metadata": {},
   "outputs": [],
   "source": []
  }
 ],
 "metadata": {
  "kernelspec": {
   "display_name": "Python 3",
   "language": "python",
   "name": "python3"
  },
  "language_info": {
   "codemirror_mode": {
    "name": "ipython",
    "version": 3
   },
   "file_extension": ".py",
   "mimetype": "text/x-python",
   "name": "python",
   "nbconvert_exporter": "python",
   "pygments_lexer": "ipython3",
   "version": "3.6.13"
  }
 },
 "nbformat": 4,
 "nbformat_minor": 5
}
